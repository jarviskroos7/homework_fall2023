{
 "cells": [
  {
   "cell_type": "code",
   "execution_count": 11,
   "metadata": {},
   "outputs": [],
   "source": [
    "import numpy as np\n",
    "import torch\n",
    "import os\n",
    "import sys"
   ]
  },
  {
   "cell_type": "markdown",
   "metadata": {},
   "source": [
    "## 2 Deep Q-Learning"
   ]
  },
  {
   "cell_type": "markdown",
   "metadata": {},
   "source": [
    "### 2.4 Basic Q-Learning"
   ]
  },
  {
   "cell_type": "markdown",
   "metadata": {},
   "source": [
    "CartPole-v1"
   ]
  },
  {
   "cell_type": "code",
   "execution_count": 17,
   "metadata": {},
   "outputs": [
    {
     "name": "stderr",
     "output_type": "stream",
     "text": [
      "Traceback (most recent call last):\n",
      "  File \"/Users/admin/opt/anaconda3/envs/cs285/lib/python3.9/site-packages/tensorboard/backend/event_processing/directory_watcher.py\", line 88, in Load\n",
      "    for event in self._LoadInternal():\n",
      "  File \"/Users/admin/opt/anaconda3/envs/cs285/lib/python3.9/site-packages/tensorboard/backend/event_processing/directory_watcher.py\", line 110, in _LoadInternal\n",
      "    self._InitializeLoader()\n",
      "  File \"/Users/admin/opt/anaconda3/envs/cs285/lib/python3.9/site-packages/tensorboard/backend/event_processing/directory_watcher.py\", line 173, in _InitializeLoader\n",
      "    path = self._GetNextPath()\n",
      "  File \"/Users/admin/opt/anaconda3/envs/cs285/lib/python3.9/site-packages/tensorboard/backend/event_processing/directory_watcher.py\", line 210, in _GetNextPath\n",
      "    for path in io_wrapper.ListDirectoryAbsolute(self._directory)\n",
      "  File \"/Users/admin/opt/anaconda3/envs/cs285/lib/python3.9/site-packages/tensorboard/backend/event_processing/io_wrapper.py\", line 78, in ListDirectoryAbsolute\n",
      "    os.path.join(directory, path) for path in tf.io.gfile.listdir(directory)\n",
      "  File \"/Users/admin/opt/anaconda3/envs/cs285/lib/python3.9/site-packages/tensorboard/compat/tensorflow_stub/io/gfile.py\", line 889, in listdir\n",
      "    return get_filesystem(dirname).listdir(dirname)\n",
      "  File \"/Users/admin/opt/anaconda3/envs/cs285/lib/python3.9/site-packages/tensorboard/compat/tensorflow_stub/io/gfile.py\", line 193, in listdir\n",
      "    raise errors.NotFoundError(None, None, \"Could not find directory\")\n",
      "tensorboard.compat.tensorflow_stub.errors.NotFoundError: Could not find directory\n",
      "\n",
      "During handling of the above exception, another exception occurred:\n",
      "\n",
      "Traceback (most recent call last):\n",
      "  File \"/Users/admin/Desktop/Fall 2023/CS285/homework_fall2023/hw3/cs285/scripts/../scripts/example_parse_tensorboard.py\", line 103, in <module>\n",
      "    scalars = extract_tensorboard_scalars(log, args.data_key)\n",
      "  File \"/Users/admin/Desktop/Fall 2023/CS285/homework_fall2023/hw3/cs285/scripts/../scripts/example_parse_tensorboard.py\", line 13, in extract_tensorboard_scalars\n",
      "    event_acc.Reload()  # Load the events from disk\n",
      "  File \"/Users/admin/opt/anaconda3/envs/cs285/lib/python3.9/site-packages/tensorboard/backend/event_processing/event_accumulator.py\", line 246, in Reload\n",
      "    for event in self._generator.Load():\n",
      "  File \"/Users/admin/opt/anaconda3/envs/cs285/lib/python3.9/site-packages/tensorboard/backend/event_processing/directory_watcher.py\", line 92, in Load\n",
      "    raise DirectoryDeletedError(\n",
      "tensorboard.backend.event_processing.directory_watcher.DirectoryDeletedError: Directory ../data/hw3_dqn_dqn_CartPole-v1_s64_l2_d0.99_07-10-2023_23-06-56/ has been permanently deleted\n"
     ]
    },
    {
     "data": {
      "text/plain": [
       "256"
      ]
     },
     "execution_count": 17,
     "metadata": {},
     "output_type": "execute_result"
    }
   ],
   "source": [
    "command = \"python ../scripts/example_parse_tensorboard.py \\\n",
    "    -i ../../data/hw3_dqn_dqn_CartPole-v1_s64_l2_d0.99_07-10-2023_23-06-56/\\\n",
    "    -n 'dqn lunarlander' \\\n",
    "    -d eval_return \\\n",
    "\"\n",
    "os.system(command)"
   ]
  },
  {
   "cell_type": "markdown",
   "metadata": {},
   "source": [
    "LunarLander-v2"
   ]
  },
  {
   "cell_type": "markdown",
   "metadata": {},
   "source": [
    "CartPole-v1, learning_rate = 0.05"
   ]
  },
  {
   "cell_type": "code",
   "execution_count": null,
   "metadata": {},
   "outputs": [],
   "source": []
  }
 ],
 "metadata": {
  "kernelspec": {
   "display_name": "cs285",
   "language": "python",
   "name": "python3"
  },
  "language_info": {
   "codemirror_mode": {
    "name": "ipython",
    "version": 3
   },
   "file_extension": ".py",
   "mimetype": "text/x-python",
   "name": "python",
   "nbconvert_exporter": "python",
   "pygments_lexer": "ipython3",
   "version": "3.9.18"
  },
  "orig_nbformat": 4
 },
 "nbformat": 4,
 "nbformat_minor": 2
}
